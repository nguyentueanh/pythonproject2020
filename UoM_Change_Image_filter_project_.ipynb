{
  "nbformat": 4,
  "nbformat_minor": 0,
  "metadata": {
    "colab": {
      "name": "UoM Change Image filter project .ipynb",
      "provenance": []
    },
    "kernelspec": {
      "name": "python3",
      "display_name": "Python 3"
    }
  },
  "cells": [
    {
      "cell_type": "markdown",
      "metadata": {
        "id": "CfQaVicQn0Tg",
        "colab_type": "text"
      },
      "source": [
        "This is the project I submitted for University of Michigan's Python 3 Programming. The project aims to change the filter of an image segmented in RBG, rescale new images and paste onto a new contact sheet. The project was completed in June 2020.\n"
      ]
    },
    {
      "cell_type": "markdown",
      "metadata": {
        "id": "gcv9w6OCoQ1Q",
        "colab_type": "text"
      },
      "source": [
        "Download packages in PIL "
      ]
    },
    {
      "cell_type": "code",
      "metadata": {
        "id": "pdCBlrS5oIkl",
        "colab_type": "code",
        "colab": {}
      },
      "source": [
        "import PIL\n",
        "from PIL import Image\n",
        "from PIL import ImageEnhance\n",
        "from PIL import ImageDraw\n",
        "from PIL import ImageFont"
      ],
      "execution_count": 1,
      "outputs": []
    },
    {
      "cell_type": "code",
      "metadata": {
        "id": "glwyvb4CoOhR",
        "colab_type": "code",
        "colab": {}
      },
      "source": [
        "# read image and convert to RGB\n",
        "image=Image.open(\"readonly/msi_recruitment.gif\")\n",
        "image=image.convert('RGB')\n",
        "r,g,b = image.split()\n",
        "contact_sheets = []"
      ],
      "execution_count": null,
      "outputs": []
    },
    {
      "cell_type": "code",
      "metadata": {
        "id": "C92Qy2dpom4n",
        "colab_type": "code",
        "colab": {}
      },
      "source": [
        "#change the red base\n",
        "intensity = 0.1\n",
        "while intensity < 1.0 :\n",
        "    r1 = r.point(lambda i: i * intensity)\n",
        "    new1 = Image.merge('RGB', (r1,g,b))\n",
        "    text = \"channel 0 intensity {}\".format(intensity)\n",
        "    y_line = 85\n",
        "    label=PIL.Image.new(new1.mode, (new1.width,y_line))\n",
        "    font = ImageFont.truetype(\"readonly/fanwood-webfont.ttf\", 75)\n",
        "    draw = ImageDraw.Draw(label)\n",
        "    draw.text((0, 0),text,(255,255,255),font=font)\n",
        "    y1 = new1.height + y_line\n",
        "    contact_sheet_1=PIL.Image.new(new1.mode, (new1.width*1,y1))\n",
        "    x=0\n",
        "    y=0\n",
        "    contact_sheet_1.paste(new1, (x, y))\n",
        "    y=y+new1.height\n",
        "    contact_sheet_1.paste(label, (x, y))\n",
        "    #display(contact_sheet_1)\n",
        "    contact_sheets.append(contact_sheet_1)\n",
        "    intensity = intensity + 0.4 "
      ],
      "execution_count": null,
      "outputs": []
    },
    {
      "cell_type": "code",
      "metadata": {
        "id": "aRKTn6UKotvd",
        "colab_type": "code",
        "colab": {}
      },
      "source": [
        "#change the green base  \n",
        "intensity = 0.1\n",
        "while intensity < 1.0 :\n",
        "    g1 = g.point(lambda i: i * intensity)\n",
        "    new2 = Image.merge('RGB', (r,g1,b))\n",
        "    text = \"channel 1 intensity {}\".format(intensity)\n",
        "    y_line = 85\n",
        "    label2=PIL.Image.new(new2.mode, (new2.width,y_line))\n",
        "    font = ImageFont.truetype(\"readonly/fanwood-webfont.ttf\", 75)\n",
        "    draw = ImageDraw.Draw(label2)\n",
        "    draw.text((0, 0),text,(255,255,255),font=font)\n",
        "    y2 = new2.height + y_line\n",
        "    contact_sheet_2=PIL.Image.new(new2.mode, (new2.width*1,y2))\n",
        "    x=0\n",
        "    y=0\n",
        "    contact_sheet_2.paste(new2, (x, y))\n",
        "    y=y+new2.height\n",
        "    contact_sheet_2.paste(label2, (x, y))\n",
        "    #display(contact_sheet_2)\n",
        "    contact_sheets.append(contact_sheet_2)\n",
        "    intensity = intensity + 0.4 "
      ],
      "execution_count": null,
      "outputs": []
    },
    {
      "cell_type": "code",
      "metadata": {
        "id": "KKOjY3vlov2L",
        "colab_type": "code",
        "colab": {}
      },
      "source": [
        "#change the blue base  \n",
        "intensity = 0.1\n",
        "while intensity < 1.0 :\n",
        "    b1 = b.point(lambda i: i * intensity)\n",
        "    new3 = Image.merge('RGB', (r,g,b1))\n",
        "    text = \"channel 2 intensity {}\".format(intensity)\n",
        "    y_line = 85\n",
        "    label3=PIL.Image.new(new3.mode, (new3.width,y_line))\n",
        "    font = ImageFont.truetype(\"readonly/fanwood-webfont.ttf\", 75)\n",
        "    draw = ImageDraw.Draw(label3)\n",
        "    draw.text((0, 0),text,(255,255,255),font=font)\n",
        "    y3 = new3.height + y_line\n",
        "    contact_sheet_3=PIL.Image.new(new3.mode, (new3.width*1,y3))\n",
        "    x=\n",
        "    y=0\n",
        "    contact_sheet_3.paste(new3, (x, y))\n",
        "    y=y+new3.height\n",
        "    contact_sheet_3.paste(label3, (x, y))\n",
        "    #display(contact_sheet_3)\n",
        "    contact_sheets.append(contact_sheet_3)\n",
        "    intensity = intensity + 0.4  "
      ],
      "execution_count": null,
      "outputs": []
    },
    {
      "cell_type": "code",
      "metadata": {
        "id": "wFPF1_O9oxi1",
        "colab_type": "code",
        "colab": {}
      },
      "source": [
        "#print(len(contact_sheets))\n",
        "contact_sheet = PIL.Image.new(contact_sheet_1.mode, (contact_sheet_1.width*3,contact_sheet_1.height*3))\n",
        "x = 0 \n",
        "y = 0\n",
        "\n",
        "for sheet in contact_sheets:\n",
        "    # Lets paste the current image into the contact sheet\n",
        "    contact_sheet.paste(sheet, (x, y))\n",
        "    if x+contact_sheet_1.width == contact_sheet.width:\n",
        "        x=0\n",
        "        y=y+contact_sheet_1.height\n",
        "    else:\n",
        "        x=x+contact_sheet_1.width\n",
        "\n",
        "# resize and display the contact sheet\n",
        "contact_sheet = contact_sheet.resize((int(contact_sheet.width/2),int(contact_sheet.height/2) ))\n",
        "display(contact_sheet)"
      ],
      "execution_count": null,
      "outputs": []
    }
  ]
}