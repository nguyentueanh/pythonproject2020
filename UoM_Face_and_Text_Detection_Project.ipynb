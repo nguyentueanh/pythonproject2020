{
  "nbformat": 4,
  "nbformat_minor": 0,
  "metadata": {
    "colab": {
      "name": "UoM Face and Text Detection Project.ipynb",
      "provenance": []
    },
    "kernelspec": {
      "name": "python3",
      "display_name": "Python 3"
    }
  },
  "cells": [
    {
      "cell_type": "code",
      "metadata": {
        "id": "6IQ_1CDwp1RE",
        "colab_type": "code",
        "colab": {}
      },
      "source": [
        ""
      ],
      "execution_count": null,
      "outputs": []
    },
    {
      "cell_type": "markdown",
      "metadata": {
        "id": "OMQU4JwJp4uC",
        "colab_type": "text"
      },
      "source": [
        "This is the project that takes a number of files (images of newspapers). Input a search word and it will search through each image. If there is such a word in the image, it will detect faces, crop them and paste onto a contact sheet and show the contact sheet as outcome. Otherwise, it will return \"No faces found\". The project uses OCR for text detection, OpenCV (haar cascade) for face detection, and PIL for crop and paste images. The project was submitted as part of University of Michigan's Python 3 Programming Specialisation in July 2020. "
      ]
    },
    {
      "cell_type": "code",
      "metadata": {
        "id": "A5G8s_MsqxAK",
        "colab_type": "code",
        "colab": {}
      },
      "source": [
        "#import packages\n",
        "import zipfile\n",
        "from PIL import Image\n",
        "from PIL import ImageDraw\n",
        "import os\n",
        "import cv2 as cv"
      ],
      "execution_count": null,
      "outputs": []
    },
    {
      "cell_type": "code",
      "metadata": {
        "id": "zD0lrhkdqymv",
        "colab_type": "code",
        "colab": {}
      },
      "source": [
        "#unzip, name the folder as 'unzip_folder'\n",
        "with zipfile.ZipFile('readonly/images.zip', 'r') as my_zip:\n",
        "    #print names of files\n",
        "    print(my_zip.namelist()) \n",
        "    my_zip.extractall('unzip_folder')"
      ],
      "execution_count": null,
      "outputs": []
    },
    {
      "cell_type": "code",
      "metadata": {
        "id": "fnxQb2o7qz6v",
        "colab_type": "code",
        "colab": {}
      },
      "source": [
        "#give the directory\n",
        "directory = 'unzip_folder/'\n",
        "folder = os.listdir(directory)"
      ],
      "execution_count": null,
      "outputs": []
    },
    {
      "cell_type": "code",
      "metadata": {
        "id": "ZKX81fbzq1a1",
        "colab_type": "code",
        "colab": {}
      },
      "source": [
        "#detect_faces function\n",
        "#detect_faces in each image\n",
        "def detect_faces(file):\n",
        "    face_cascade = cv.CascadeClassifier('readonly/haarcascade_frontalface_default.xml')\n",
        "    path = os.path.join(directory, file)\n",
        "    img = cv.imread(path)\n",
        "    gray = cv.cvtColor(img, cv.COLOR_BGR2GRAY)\n",
        "    faces = face_cascade.detectMultiScale(gray)\n",
        "    faces_list = faces.tolist()\n",
        "    if len(faces_list) != 0:\n",
        "        print(\"There are {} faces detected in {}\".format(len(faces_list), file))\n",
        "        #crop the faces and paste onto a contact sheet\n",
        "        img = Image.open(path)\n",
        "        width = int(img.width/2)\n",
        "        height = int(img.height/3)\n",
        "        contact_sheet = Image.new(img.mode, (width,height))\n",
        "        x=0\n",
        "        y=0\n",
        "        i =0\n",
        "        for face in faces_list:\n",
        "            img=Image.open(path)\n",
        "            left, upper, right, lower = face\n",
        "            im_crop = img.crop((left, upper, left+right, upper+lower))\n",
        "            contact_sheet.paste(im_crop, (x, y))\n",
        "            if (x+right) < (contact_sheet.width - 100):\n",
        "                x = x + right\n",
        "                y = y\n",
        "            else:\n",
        "                x = 0\n",
        "                y = y+320\n",
        "        display(contact_sheet)\n",
        "    elif len(faces_list) == 0:\n",
        "        print(\"But there were no faces in that file\")\n",
        "        print(\"-------------------------------------\")\n",
        "    return"
      ],
      "execution_count": null,
      "outputs": []
    },
    {
      "cell_type": "code",
      "metadata": {
        "id": "8NOFiPi_q5-a",
        "colab_type": "code",
        "colab": {}
      },
      "source": [
        "#find the search word in images in the folder\n",
        "def find_the_word(search):\n",
        "    for file in folder:\n",
        "        path = os.path.join(directory, file)\n",
        "        img = Image.open(path)\n",
        "        img = img.convert(\"L\")\n",
        "        img.save(\"greyscale.jpg\")\n",
        "        text = pytesseract.image_to_string(Image.open('greyscale.jpg'))\n",
        "        if search in text:\n",
        "            print(\"Results found in file {}\".format(file))\n",
        "            detect_faces(file)\n",
        "    return"
      ],
      "execution_count": null,
      "outputs": []
    },
    {
      "cell_type": "code",
      "metadata": {
        "id": "MnQRtsObq73h",
        "colab_type": "code",
        "colab": {}
      },
      "source": [
        "#input search word\n",
        "search = input(\"Please enter your search word \")\n",
        "find_the_word(search)"
      ],
      "execution_count": null,
      "outputs": []
    }
  ]
}